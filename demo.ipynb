{
 "cells": [
  {
   "cell_type": "code",
   "execution_count": 1,
   "id": "737dfe42-55db-4029-b8cd-6a566b3afad0",
   "metadata": {},
   "outputs": [],
   "source": [
    "import psutil"
   ]
  },
  {
   "cell_type": "code",
   "execution_count": 2,
   "id": "ca974eae",
   "metadata": {},
   "outputs": [
    {
     "name": "stdout",
     "output_type": "stream",
     "text": [
      "1\n",
      "2\n",
      "scpufreq(current=3243.58, min=0.0, max=0.0)\n"
     ]
    }
   ],
   "source": [
    "print(psutil.cpu_count(logical=False))  # 返回核心数14\n",
    "print(psutil.cpu_count())               # 进程数20\n",
    "print(psutil.cpu_freq())                # CPU频率\n",
    "# scpufreq(current=2600.0, min=0.0, max=2600.0)"
   ]
  },
  {
   "cell_type": "code",
   "execution_count": 3,
   "id": "99756f6b",
   "metadata": {},
   "outputs": [
    {
     "name": "stdout",
     "output_type": "stream",
     "text": [
      "7.752643585205078 GB\n",
      "5.6623077392578125 GB\n",
      "27.0 %\n",
      "1.727325439453125 GB\n",
      "sswap(total=0, used=0, free=0, percent=0.0, sin=0, sout=0)\n"
     ]
    }
   ],
   "source": [
    "vm = psutil.virtual_memory()\n",
    "GB = 1024*1024*1024\n",
    "print(vm.total/GB, \"GB\")\n",
    "# 31.741661071777344 GB\n",
    "print(vm.available/GB, \"GB\")\n",
    "# 15.915771484375 GB\n",
    "print(vm.percent, \"%\")\n",
    "# 49.9 %\n",
    "print(vm.used/GB, \"GB\")\n",
    "# 15.825889587402344 GB\n",
    "print(psutil.swap_memory()) # 返回交换内存\n",
    "# sswap(total=5100273664, used=11184832512, free=-6084558848, percent=219.3, sin=0, sout=0)\n"
   ]
  }
 ],
 "metadata": {
  "kernelspec": {
   "display_name": "Python 3",
   "language": "python",
   "name": "python3"
  },
  "language_info": {
   "codemirror_mode": {
    "name": "ipython",
    "version": 3
   },
   "file_extension": ".py",
   "mimetype": "text/x-python",
   "name": "python",
   "nbconvert_exporter": "python",
   "pygments_lexer": "ipython3",
   "version": "3.12.1"
  }
 },
 "nbformat": 4,
 "nbformat_minor": 5
}
